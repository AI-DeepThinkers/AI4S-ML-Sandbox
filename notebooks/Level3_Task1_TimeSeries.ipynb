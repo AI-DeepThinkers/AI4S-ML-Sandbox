{
 "cells": [
  {
   "cell_type": "markdown",
   "id": "c76942bc",
   "metadata": {},
   "source": [
    "# Level 3 \n",
    "## Task 1: Time Series Forecasting\n",
    "\n",
    "Welcome to the notebook version of **Task 1: Time Series Forecasting**.  \n",
    "In this task, we’ll apply classic time series techniques to forecast a chosen metric from a cleaned dataset.\n"
   ]
  },
  {
   "cell_type": "code",
   "execution_count": 16,
   "id": "a925298b",
   "metadata": {},
   "outputs": [],
   "source": [
    "\n",
    "import os\n",
    "import sys\n",
    "import ipywidgets as widgets\n",
    "\n",
    "import pandas as pd\n",
    "import numpy as np\n",
    "import matplotlib.pyplot as plt\n",
    "\n",
    "from statsmodels.tsa.seasonal import seasonal_decompose\n",
    "from statsmodels.tsa.holtwinters import ExponentialSmoothing\n",
    "from statsmodels.tsa.arima.model import ARIMA\n",
    "from sklearn.metrics import mean_squared_error\n",
    "\n",
    "from IPython.display import display, Markdown"
   ]
  },
  {
   "cell_type": "code",
   "execution_count": 17,
   "id": "bc93ba88",
   "metadata": {},
   "outputs": [
    {
     "name": "stdout",
     "output_type": "stream",
     "text": [
      "📁 Notebook Directory: e:\\CODveda\\codveda-internship\\notebooks\n",
      "📂 Root Directory: e:\\CODveda\\codveda-internship\n",
      "🗂️ Cleaned Data Path: e:\\CODveda\\codveda-internship\\data\\cleaned\n"
     ]
    }
   ],
   "source": [
    "# Detect current notebook directory\n",
    "notebook_dir = os.getcwd()\n",
    "root_dir = os.path.abspath(os.path.join(notebook_dir, \"..\"))  # adjust as needed\n",
    "\n",
    "# Add root directory to sys.path if not already included\n",
    "if root_dir not in sys.path:\n",
    "    sys.path.append(root_dir)\n",
    "\n",
    "# Construct cleaned data directory and print debug info\n",
    "cleaned_dir = os.path.join(root_dir, \"data\", \"cleaned\")\n",
    "print(\"📁 Notebook Directory:\", notebook_dir)\n",
    "print(\"📂 Root Directory:\", root_dir)\n",
    "print(\"🗂️ Cleaned Data Path:\", cleaned_dir)\n",
    "\n",
    "# -------------------- 📁 Detect Available CSV Files --------------------\n",
    "try:\n",
    "    csv_files = sorted([f for f in os.listdir(cleaned_dir) if f.endswith(\".csv\")])\n",
    "    if not csv_files:\n",
    "        raise FileNotFoundError(\"No CSV files found in 'data/cleaned/'.\")\n",
    "except FileNotFoundError as e:\n",
    "    print(f\"❌ {e}\")\n",
    "    raise"
   ]
  },
  {
   "cell_type": "code",
   "execution_count": 18,
   "id": "6ce6d2c1",
   "metadata": {},
   "outputs": [],
   "source": [
    "# -------------------- Dataset Selection Dropdown --------------------\n",
    "\n",
    "# Default to stock_prices_cleaned.csv if available\n",
    "default_file = \"stock_prices_cleaned.csv\"\n",
    "default_value = default_file if default_file in csv_files else csv_files[0]\n",
    "\n",
    "dataset_selector = widgets.Dropdown(\n",
    "    options=csv_files,\n",
    "    value=default_value,\n",
    "    description=\"Dataset:\",\n",
    "    layout=widgets.Layout(width=\"50%\")\n",
    ")\n"
   ]
  },
  {
   "cell_type": "markdown",
   "id": "48e2d76f",
   "metadata": {},
   "source": [
    "## Load Cleaned Time Series Dataset\n",
    "\n",
    "Use the dropdown below to choose a cleaned CSV dataset (with a date column) for time series analysis."
   ]
  },
  {
   "cell_type": "code",
   "execution_count": 19,
   "id": "cd093f8d",
   "metadata": {},
   "outputs": [
    {
     "data": {
      "text/markdown": [
       "## Load Cleaned Time Series Dataset"
      ],
      "text/plain": [
       "<IPython.core.display.Markdown object>"
      ]
     },
     "metadata": {},
     "output_type": "display_data"
    },
    {
     "data": {
      "application/vnd.jupyter.widget-view+json": {
       "model_id": "93bae890b1584bbf837c3c002481b63c",
       "version_major": 2,
       "version_minor": 0
      },
      "text/plain": [
       "Dropdown(description='Dataset:', index=4, layout=Layout(width='50%'), options=('churn-bigml-20_cleaned.csv', '…"
      ]
     },
     "metadata": {},
     "output_type": "display_data"
    },
    {
     "data": {
      "application/vnd.jupyter.widget-view+json": {
       "model_id": "55504dcf3cb6492db0b966a4a8089d12",
       "version_major": 2,
       "version_minor": 0
      },
      "text/plain": [
       "Output()"
      ]
     },
     "metadata": {},
     "output_type": "display_data"
    }
   ],
   "source": [
    "# -------------------- Load Dataset Helper --------------------\n",
    "def load_dataset(file_name):\n",
    "    path = os.path.join(cleaned_dir, file_name)\n",
    "    df = pd.read_csv(path)\n",
    "\n",
    "    # Try to detect a date column automatically\n",
    "    date_col = next((col for col in df.columns if \"date\" in col.lower()), None)\n",
    "\n",
    "    if date_col:\n",
    "        df[date_col] = pd.to_datetime(df[date_col])\n",
    "        df = df.set_index(date_col).sort_index()\n",
    "    else:\n",
    "        raise ValueError(\"No 'date' column found in the dataset.!\")\n",
    "\n",
    "    return df\n",
    "\n",
    "# -------------------- Output Preview Area --------------------\n",
    "output_area = widgets.Output()\n",
    "\n",
    "def on_dataset_change(change):\n",
    "    with output_area:\n",
    "        output_area.clear_output()\n",
    "        try:\n",
    "            df = load_dataset(change['new'])\n",
    "            display(Markdown(f\"### Preview of `{change['new']}`\"))\n",
    "            display(df.head())\n",
    "        except Exception as e:\n",
    "            print(f\"Error loading dataset: {e}.!!!\")\n",
    "\n",
    "dataset_selector.observe(on_dataset_change, names='value')\n",
    "\n",
    "# -------------------- Initial Dataset Preview --------------------\n",
    "with output_area:\n",
    "    df_initial = load_dataset(dataset_selector.value)\n",
    "    display(Markdown(f\"### Preview of `{dataset_selector.value}`\"))\n",
    "    display(df_initial.head())\n",
    "\n",
    "# -------------------- Display Dataset Selector --------------------\n",
    "display(Markdown(\"## Load Cleaned Time Series Dataset\"))\n",
    "display(dataset_selector)\n",
    "display(output_area)\n"
   ]
  },
  {
   "cell_type": "code",
   "execution_count": 20,
   "id": "2dfe25a4",
   "metadata": {},
   "outputs": [
    {
     "data": {
      "text/markdown": [
       "## Select Time Series Target"
      ],
      "text/plain": [
       "<IPython.core.display.Markdown object>"
      ]
     },
     "metadata": {},
     "output_type": "display_data"
    },
    {
     "data": {
      "application/vnd.jupyter.widget-view+json": {
       "model_id": "811bf5c3b3064f22a5643b46b05df948",
       "version_major": 2,
       "version_minor": 0
      },
      "text/plain": [
       "Dropdown(description='Target:', layout=Layout(width='50%'), options=('open', 'high', 'low', 'close', 'volume')…"
      ]
     },
     "metadata": {},
     "output_type": "display_data"
    },
    {
     "data": {
      "application/vnd.jupyter.widget-view+json": {
       "model_id": "f924a465f1ab41ae932055990bd0c743",
       "version_major": 2,
       "version_minor": 0
      },
      "text/plain": [
       "Output()"
      ]
     },
     "metadata": {},
     "output_type": "display_data"
    }
   ],
   "source": [
    "# -------------------- Time Series Column Selection --------------------\n",
    "\n",
    "# Get numeric columns (excluding index)\n",
    "numeric_columns = df_initial.select_dtypes(include=[np.number]).columns.tolist()\n",
    "\n",
    "# Warn if none found\n",
    "if not numeric_columns:\n",
    "    raise ValueError(\"No numeric columns found for time series forecasting.!!!\")\n",
    "\n",
    "# Dropdown for time series column\n",
    "target_selector = widgets.Dropdown(\n",
    "    options=numeric_columns,\n",
    "    value=numeric_columns[0],\n",
    "    description=\"Target:\",\n",
    "    layout=widgets.Layout(width=\"50%\")\n",
    ")\n",
    "\n",
    "# Output display\n",
    "plot_output = widgets.Output()\n",
    "\n",
    "# Plot function\n",
    "def plot_time_series(series, label=None):\n",
    "    plt.figure(figsize=(10, 4))\n",
    "    plt.plot(series, label=label or series.name)\n",
    "    plt.xlabel(\"Date\")\n",
    "    plt.ylabel(\"Value\")\n",
    "    plt.title(f\"Time Series Plot – {label}\")\n",
    "    plt.grid(True)\n",
    "    if label:\n",
    "        plt.legend()\n",
    "    plt.tight_layout()\n",
    "    plt.show()\n",
    "\n",
    "def on_target_change(change):\n",
    "    with plot_output:\n",
    "        plot_output.clear_output()\n",
    "        selected_target = change[\"new\"]\n",
    "        ts_series = df_initial[selected_target].dropna()\n",
    "        display(Markdown(f\"### Plotting `{selected_target}` Time Series\"))\n",
    "        plot_time_series(ts_series, label=selected_target)\n",
    "\n",
    "target_selector.observe(on_target_change, names=\"value\")\n",
    "\n",
    "# Initial plot\n",
    "with plot_output:\n",
    "    initial_target = target_selector.value\n",
    "    display(Markdown(f\"### Plotting `{initial_target}` Time Series\"))\n",
    "    plot_time_series(df_initial[initial_target], label=initial_target)\n",
    "\n",
    "# Display UI\n",
    "display(Markdown(\"## Select Time Series Target\"))\n",
    "display(target_selector)\n",
    "display(plot_output)\n"
   ]
  }
 ],
 "metadata": {
  "kernelspec": {
   "display_name": "codveda-env",
   "language": "python",
   "name": "python3"
  },
  "language_info": {
   "codemirror_mode": {
    "name": "ipython",
    "version": 3
   },
   "file_extension": ".py",
   "mimetype": "text/x-python",
   "name": "python",
   "nbconvert_exporter": "python",
   "pygments_lexer": "ipython3",
   "version": "3.11.0"
  }
 },
 "nbformat": 4,
 "nbformat_minor": 5
}
