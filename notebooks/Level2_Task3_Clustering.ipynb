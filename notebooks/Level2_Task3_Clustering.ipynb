{
 "cells": [
  {
   "cell_type": "markdown",
   "id": "4952092d",
   "metadata": {},
   "source": [
    "# Level 2 \n",
    "## Task 3: Clustering with K-Means\n",
    "\n",
    "Welcome to **Level 2 – Task 3: Clustering**.  \n",
    "In this notebook, we'll explore how to:\n",
    "\n",
    "- Load cleaned datasets interactively\n",
    "- Preprocess numerical features for clustering\n",
    "- Determine the optimal number of clusters using the Elbow Method\n",
    "- Apply **K-Means Clustering**\n",
    "- Visualize clusters via PCA\n",
    "- Interpret cluster summaries"
   ]
  },
  {
   "cell_type": "code",
   "execution_count": 13,
   "id": "fcb4eef9",
   "metadata": {},
   "outputs": [],
   "source": [
    "# -------------------- Imports --------------------\n",
    "import os\n",
    "import pandas as pd\n",
    "import numpy as np\n",
    "import matplotlib.pyplot as plt\n",
    "import seaborn as sns\n",
    "\n",
    "from sklearn.cluster import KMeans\n",
    "from sklearn.preprocessing import StandardScaler\n",
    "from sklearn.decomposition import PCA\n",
    "from sklearn.metrics import silhouette_score\n",
    "\n",
    "import ipywidgets as widgets\n",
    "from IPython.display import display, Markdown, clear_output\n"
   ]
  },
  {
   "cell_type": "code",
   "execution_count": 14,
   "id": "7784da95",
   "metadata": {},
   "outputs": [
    {
     "data": {
      "text/markdown": [
       "### 📁 Select a Cleaned Dataset"
      ],
      "text/plain": [
       "<IPython.core.display.Markdown object>"
      ]
     },
     "metadata": {},
     "output_type": "display_data"
    },
    {
     "data": {
      "application/vnd.jupyter.widget-view+json": {
       "model_id": "eea007d4aedc424f96744090ed665985",
       "version_major": 2,
       "version_minor": 0
      },
      "text/plain": [
       "Dropdown(description='Dataset:', index=2, options=('churn-bigml-20_cleaned.csv', 'house_prediction_cleaned.csv…"
      ]
     },
     "metadata": {},
     "output_type": "display_data"
    }
   ],
   "source": [
    "# -------------------- Paths & Defaults --------------------\n",
    "root_dir = os.path.abspath(os.path.join(os.getcwd(), \"..\"))\n",
    "cleaned_dir = os.path.join(root_dir, \"data\", \"cleaned\")\n",
    "\n",
    "default_file = \"iris_cleaned.csv\"  # Can adjust to another default if needed\n",
    "available_csvs = [f for f in os.listdir(cleaned_dir) if f.endswith(\".csv\")]\n",
    "\n",
    "# Dataset selector dropdown\n",
    "dataset_selector = widgets.Dropdown(\n",
    "    options=available_csvs,\n",
    "    value=default_file,\n",
    "    description=\"Dataset:\"\n",
    ")\n",
    "\n",
    "# Display dropdown\n",
    "display(Markdown(\"### 📁 Select a Cleaned Dataset\"))\n",
    "display(dataset_selector)\n"
   ]
  },
  {
   "cell_type": "code",
   "execution_count": null,
   "id": "bfb64d4a",
   "metadata": {},
   "outputs": [
    {
     "data": {
      "application/vnd.jupyter.widget-view+json": {
       "model_id": "93a7ca64b8b141aa8b8722a8c1d2a5c3",
       "version_major": 2,
       "version_minor": 0
      },
      "text/plain": [
       "Output()"
      ]
     },
     "metadata": {},
     "output_type": "display_data"
    }
   ],
   "source": [
    "output_area = widgets.Output()\n",
    "\n",
    "def load_dataset(file_name):\n",
    "    path = os.path.join(cleaned_dir, file_name)\n",
    "    return pd.read_csv(path)\n",
    "\n",
    "def run_kmeans(df):\n",
    "    numeric_cols = df.select_dtypes(include=[np.number]).columns.tolist()\n",
    "\n",
    "    if len(numeric_cols) < 2:\n",
    "        display(Markdown(\"❌ This dataset does not have enough numeric columns for clustering.\"))\n",
    "        return\n",
    "\n",
    "    X = df[numeric_cols]\n",
    "    scaler = StandardScaler()\n",
    "    scaled = scaler.fit_transform(X)\n",
    "\n",
    "    # -------------------- Elbow Plot --------------------\n",
    "    distortions = []\n",
    "    K_range = range(1, 11)\n",
    "    for k in K_range:\n",
    "        kmeans = KMeans(n_clusters=k, random_state=42)\n",
    "        kmeans.fit(scaled)\n",
    "        distortions.append(kmeans.inertia_)\n",
    "\n",
    "    plt.figure(figsize=(5, 4))\n",
    "    plt.plot(K_range, distortions, marker='o')\n",
    "    plt.title(\"📉 Elbow Method – Optimal K\")\n",
    "    plt.xlabel(\"Number of Clusters (k)\")\n",
    "    plt.ylabel(\"Inertia\")\n",
    "    plt.grid(True)\n",
    "    plt.show()\n",
    "\n",
    "    # -------------------- Choose k --------------------\n",
    "    k_slider = widgets.IntSlider(value=3, min=2, max=10, step=1, description=\"Clusters (k):\")\n",
    "    display(k_slider)\n",
    "\n",
    "    def on_k_change(change):\n",
    "        k = change['new']\n",
    "        kmeans = KMeans(n_clusters=k, random_state=42)\n",
    "        labels = kmeans.fit_predict(scaled)\n",
    "        sil = silhouette_score(scaled, labels)\n",
    "\n",
    "        display(Markdown(f\"### ✅ K-Means Results (k = {k})\"))\n",
    "        display(Markdown(f\"**Silhouette Score:** {sil:.4f}\"))\n",
    "\n",
    "        # Attach labels\n",
    "        df['Cluster'] = labels\n",
    "\n",
    "        # PCA for 2D plot\n",
    "        pca = PCA(n_components=2)\n",
    "        reduced = pca.fit_transform(scaled)\n",
    "        reduced_df = pd.DataFrame(reduced, columns=[\"PC1\", \"PC2\"])\n",
    "        reduced_df[\"Cluster\"] = labels\n",
    "\n",
    "        # Cluster visualization\n",
    "        plt.figure(figsize=(6, 4))\n",
    "        sns.scatterplot(data=reduced_df, x=\"PC1\", y=\"PC2\", hue=\"Cluster\", palette=\"Set2\", s=60)\n",
    "        plt.title(\"🧭 Clusters Visualized (PCA Projection)\")\n",
    "        plt.show()\n",
    "\n",
    "        # Cluster summary\n",
    "        display(Markdown(\"### 📌 Cluster Summary\"))\n",
    "        try:\n",
    "            display(df.groupby(\"Cluster\")[numeric_cols].mean())\n",
    "        except Exception as e:\n",
    "            display(Markdown(f\"⚠️ Could not compute cluster summary: {e}\"))\n",
    "\n",
    "    k_slider.observe(on_k_change, names=\"value\")\n",
    "    on_k_change({'new': 3})  # Trigger default run\n",
    "\n",
    "def preview_dataset(change=None):\n",
    "    output_area.clear_output()\n",
    "    with output_area:\n",
    "        df = load_dataset(dataset_selector.value)\n",
    "        display(Markdown(\"### Dataset Preview\"))\n",
    "        display(df.head())\n",
    "        run_kmeans(df)\n",
    "\n",
    "dataset_selector.observe(preview_dataset, names=\"value\")\n",
    "preview_dataset()  # Trigger initial load\n",
    "display(output_area)\n"
   ]
  },
  {
   "cell_type": "markdown",
   "id": "592c3376",
   "metadata": {},
   "source": [
    "## Summary & Conclusion\n",
    "\n",
    "In this task, we explored **K-Means Clustering**, a popular unsupervised learning technique used to group similar data points into clusters based on their features.\n",
    "\n",
    "- We started by loading and preprocessing datasets, focusing on numeric features to ensure meaningful clustering.\n",
    "- The **Elbow Method** helped us determine the optimal number of clusters (`k`) by analyzing the inertia (within-cluster sum of squares).\n",
    "- We applied K-Means clustering on the scaled data and evaluated the cluster quality using the **Silhouette Score**.\n",
    "- Finally, we visualized the resulting clusters in 2D space using **Principal Component Analysis (PCA)** for dimensionality reduction.\n",
    "- The cluster summary statistics provided insights into the characteristics of each group.\n",
    "\n",
    "### Key Takeaways:\n",
    "\n",
    "- Proper data scaling is essential for effective clustering since K-Means relies on distance calculations.\n",
    "- The Elbow Method and Silhouette Score are valuable tools to guide the choice of `k`.\n",
    "- Dimensionality reduction like PCA enables intuitive visualization of high-dimensional data clusters.\n",
    "- Clustering can reveal hidden patterns and groupings in data without pre-labeled classes.\n",
    "\n",
    "This task provided a hands-on understanding of clustering workflows and important considerations when applying K-Means to real-world datasets.\n"
   ]
  }
 ],
 "metadata": {
  "kernelspec": {
   "display_name": "codveda-env",
   "language": "python",
   "name": "python3"
  },
  "language_info": {
   "codemirror_mode": {
    "name": "ipython",
    "version": 3
   },
   "file_extension": ".py",
   "mimetype": "text/x-python",
   "name": "python",
   "nbconvert_exporter": "python",
   "pygments_lexer": "ipython3",
   "version": "3.11.0"
  }
 },
 "nbformat": 4,
 "nbformat_minor": 5
}
