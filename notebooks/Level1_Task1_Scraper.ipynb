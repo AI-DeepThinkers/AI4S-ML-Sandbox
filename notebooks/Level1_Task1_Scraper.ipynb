{
 "cells": [
  {
   "cell_type": "markdown",
   "id": "dfff0a12",
   "metadata": {},
   "source": [
    "# Level 1\n",
    "## Task 1: Web Scraping with Python\n",
    "\n",
    "This notebook demonstrates how to scrape structured quote data from\n",
    "http://quotes.toscrape.com using helper functions provided in scraper.py.\n",
    "\n",
    "It includes:\n",
    "- Extracting quote data\n",
    "- Keyword searching\n",
    "- Dynamic page detection\n",
    "- Saving data to CSV\n"
   ]
  },
  {
   "cell_type": "code",
   "execution_count": 1,
   "id": "c3ac5e48",
   "metadata": {},
   "outputs": [
    {
     "name": "stdout",
     "output_type": "stream",
     "text": [
      "Notebook dir: e:\\CODveda\\codveda-internship\\notebooks\n",
      "Root dir: e:\\CODveda\\codveda-internship\n",
      "Added e:\\CODveda\\codveda-internship to sys.path\n",
      "Current sys.path:\n",
      "  C:\\Users\\Kabelo Matlakala\\AppData\\Local\\Programs\\Python\\Python311\\python311.zip\n",
      "  C:\\Users\\Kabelo Matlakala\\AppData\\Local\\Programs\\Python\\Python311\\DLLs\n",
      "  C:\\Users\\Kabelo Matlakala\\AppData\\Local\\Programs\\Python\\Python311\\Lib\n",
      "  C:\\Users\\Kabelo Matlakala\\AppData\\Local\\Programs\\Python\\Python311\n",
      "  e:\\CODveda\\codveda-internship\\codveda-env\n",
      "  \n",
      "  e:\\CODveda\\codveda-internship\\codveda-env\\Lib\\site-packages\n",
      "  e:\\CODveda\\codveda-internship\\codveda-env\\Lib\\site-packages\\win32\n",
      "  e:\\CODveda\\codveda-internship\\codveda-env\\Lib\\site-packages\\win32\\lib\n",
      "  e:\\CODveda\\codveda-internship\\codveda-env\\Lib\\site-packages\\Pythonwin\n",
      "  e:\\CODveda\\codveda-internship\n"
     ]
    }
   ],
   "source": [
    "import os\n",
    "import sys\n",
    "\n",
    "notebook_dir = os.getcwd()  # current notebook working dir\n",
    "root_dir = os.path.abspath(os.path.join(notebook_dir, \"..\"))  \n",
    "\n",
    "print(\"Notebook dir:\", notebook_dir)\n",
    "print(\"Root dir:\", root_dir)\n",
    "\n",
    "if root_dir not in sys.path:\n",
    "    sys.path.append(root_dir)\n",
    "    print(f\"Added {root_dir} to sys.path\")\n",
    "else:\n",
    "    print(f\"{root_dir} already in sys.path\")\n",
    "\n",
    "print(\"Current sys.path:\")\n",
    "for p in sys.path:\n",
    "    print(\" \", p)\n"
   ]
  },
  {
   "cell_type": "code",
   "execution_count": 2,
   "id": "1bdcc596",
   "metadata": {},
   "outputs": [],
   "source": [
    "from Level1_Basic.Task1_Scraping.scraper import (\n",
    "    scrape_quotes,\n",
    "    search_quotes,\n",
    "    is_dynamic,\n",
    "    extract_structured_content,\n",
    "    save_scraped_text_to_csv\n",
    ")"
   ]
  },
  {
   "cell_type": "markdown",
   "id": "31080727",
   "metadata": {},
   "source": [
    "## Scrape Quotes from Demo Site"
   ]
  },
  {
   "cell_type": "code",
   "execution_count": 3,
   "id": "c2d1a185",
   "metadata": {},
   "outputs": [
    {
     "name": "stdout",
     "output_type": "stream",
     "text": [
      "Total quotes scraped: 100\n"
     ]
    },
    {
     "data": {
      "text/html": [
       "<div>\n",
       "<style scoped>\n",
       "    .dataframe tbody tr th:only-of-type {\n",
       "        vertical-align: middle;\n",
       "    }\n",
       "\n",
       "    .dataframe tbody tr th {\n",
       "        vertical-align: top;\n",
       "    }\n",
       "\n",
       "    .dataframe thead th {\n",
       "        text-align: right;\n",
       "    }\n",
       "</style>\n",
       "<table border=\"1\" class=\"dataframe\">\n",
       "  <thead>\n",
       "    <tr style=\"text-align: right;\">\n",
       "      <th></th>\n",
       "      <th>Quote</th>\n",
       "      <th>Author</th>\n",
       "      <th>Tags</th>\n",
       "    </tr>\n",
       "  </thead>\n",
       "  <tbody>\n",
       "    <tr>\n",
       "      <th>0</th>\n",
       "      <td>“The world as we have created it is a process ...</td>\n",
       "      <td>Albert Einstein</td>\n",
       "      <td>change, deep-thoughts, thinking, world</td>\n",
       "    </tr>\n",
       "    <tr>\n",
       "      <th>1</th>\n",
       "      <td>“It is our choices, Harry, that show what we t...</td>\n",
       "      <td>J.K. Rowling</td>\n",
       "      <td>abilities, choices</td>\n",
       "    </tr>\n",
       "    <tr>\n",
       "      <th>2</th>\n",
       "      <td>“There are only two ways to live your life. On...</td>\n",
       "      <td>Albert Einstein</td>\n",
       "      <td>inspirational, life, live, miracle, miracles</td>\n",
       "    </tr>\n",
       "    <tr>\n",
       "      <th>3</th>\n",
       "      <td>“The person, be it gentleman or lady, who has ...</td>\n",
       "      <td>Jane Austen</td>\n",
       "      <td>aliteracy, books, classic, humor</td>\n",
       "    </tr>\n",
       "    <tr>\n",
       "      <th>4</th>\n",
       "      <td>“Imperfection is beauty, madness is genius and...</td>\n",
       "      <td>Marilyn Monroe</td>\n",
       "      <td>be-yourself, inspirational</td>\n",
       "    </tr>\n",
       "  </tbody>\n",
       "</table>\n",
       "</div>"
      ],
      "text/plain": [
       "                                               Quote           Author  \\\n",
       "0  “The world as we have created it is a process ...  Albert Einstein   \n",
       "1  “It is our choices, Harry, that show what we t...     J.K. Rowling   \n",
       "2  “There are only two ways to live your life. On...  Albert Einstein   \n",
       "3  “The person, be it gentleman or lady, who has ...      Jane Austen   \n",
       "4  “Imperfection is beauty, madness is genius and...   Marilyn Monroe   \n",
       "\n",
       "                                           Tags  \n",
       "0        change, deep-thoughts, thinking, world  \n",
       "1                            abilities, choices  \n",
       "2  inspirational, life, live, miracle, miracles  \n",
       "3              aliteracy, books, classic, humor  \n",
       "4                    be-yourself, inspirational  "
      ]
     },
     "execution_count": 3,
     "metadata": {},
     "output_type": "execute_result"
    }
   ],
   "source": [
    "# Scrape quotes from the demo website\n",
    "df_quotes = scrape_quotes()\n",
    "\n",
    "print(f\"Total quotes scraped: {len(df_quotes)}\")\n",
    "df_quotes.head()"
   ]
  },
  {
   "cell_type": "markdown",
   "id": "3409333f",
   "metadata": {},
   "source": [
    "## Search Within Quotes"
   ]
  },
  {
   "cell_type": "code",
   "execution_count": 4,
   "id": "677e3119",
   "metadata": {},
   "outputs": [
    {
     "name": "stdout",
     "output_type": "stream",
     "text": [
      "Results for search term: 'truth'\n"
     ]
    },
    {
     "data": {
      "text/html": [
       "<div>\n",
       "<style scoped>\n",
       "    .dataframe tbody tr th:only-of-type {\n",
       "        vertical-align: middle;\n",
       "    }\n",
       "\n",
       "    .dataframe tbody tr th {\n",
       "        vertical-align: top;\n",
       "    }\n",
       "\n",
       "    .dataframe thead th {\n",
       "        text-align: right;\n",
       "    }\n",
       "</style>\n",
       "<table border=\"1\" class=\"dataframe\">\n",
       "  <thead>\n",
       "    <tr style=\"text-align: right;\">\n",
       "      <th></th>\n",
       "      <th>Quote</th>\n",
       "      <th>Author</th>\n",
       "      <th>Tags</th>\n",
       "    </tr>\n",
       "  </thead>\n",
       "  <tbody>\n",
       "    <tr>\n",
       "      <th>10</th>\n",
       "      <td>“This life is what you make it. No matter what...</td>\n",
       "      <td>Marilyn Monroe</td>\n",
       "      <td>friends, heartbreak, inspirational, life, love...</td>\n",
       "    </tr>\n",
       "    <tr>\n",
       "      <th>32</th>\n",
       "      <td>“The truth is, everyone is going to hurt you. ...</td>\n",
       "      <td>Bob Marley</td>\n",
       "      <td>friendship</td>\n",
       "    </tr>\n",
       "    <tr>\n",
       "      <th>75</th>\n",
       "      <td>“The reason I talk to myself is because I’m th...</td>\n",
       "      <td>George Carlin</td>\n",
       "      <td>humor, insanity, lies, lying, self-indulgence,...</td>\n",
       "    </tr>\n",
       "    <tr>\n",
       "      <th>88</th>\n",
       "      <td>“A lie can travel half way around the world wh...</td>\n",
       "      <td>Mark Twain</td>\n",
       "      <td>misattributed-mark-twain, truth</td>\n",
       "    </tr>\n",
       "    <tr>\n",
       "      <th>90</th>\n",
       "      <td>“The truth.\" Dumbledore sighed. \"It is a beaut...</td>\n",
       "      <td>J.K. Rowling</td>\n",
       "      <td>truth</td>\n",
       "    </tr>\n",
       "  </tbody>\n",
       "</table>\n",
       "</div>"
      ],
      "text/plain": [
       "                                                Quote          Author  \\\n",
       "10  “This life is what you make it. No matter what...  Marilyn Monroe   \n",
       "32  “The truth is, everyone is going to hurt you. ...      Bob Marley   \n",
       "75  “The reason I talk to myself is because I’m th...   George Carlin   \n",
       "88  “A lie can travel half way around the world wh...      Mark Twain   \n",
       "90  “The truth.\" Dumbledore sighed. \"It is a beaut...    J.K. Rowling   \n",
       "\n",
       "                                                 Tags  \n",
       "10  friends, heartbreak, inspirational, life, love...  \n",
       "32                                         friendship  \n",
       "75  humor, insanity, lies, lying, self-indulgence,...  \n",
       "88                    misattributed-mark-twain, truth  \n",
       "90                                              truth  "
      ]
     },
     "execution_count": 4,
     "metadata": {},
     "output_type": "execute_result"
    }
   ],
   "source": [
    "# Search for a keyword inside quotes (e.g., author or tag)\n",
    "search_term = \"truth\"  # Replace with any term like \"life\", \"friendship\", etc.\n",
    "search_results = search_quotes(df_quotes, search_term)\n",
    "\n",
    "print(f\"Results for search term: '{search_term}'\")\n",
    "search_results.head()"
   ]
  },
  {
   "cell_type": "markdown",
   "id": "965c1863",
   "metadata": {},
   "source": [
    "## Save Scraped Quotes to CSV"
   ]
  },
  {
   "cell_type": "code",
   "execution_count": 5,
   "id": "6f2e3786",
   "metadata": {},
   "outputs": [
    {
     "name": "stdout",
     "output_type": "stream",
     "text": [
      "Quotes saved to: e:\\CODveda\\codveda-internship\\data\\raw\\quotes_scraped.csv\n"
     ]
    }
   ],
   "source": [
    "# Define output directory and file path\n",
    "output_dir = os.path.join(root_dir, \"data\", \"raw\")\n",
    "os.makedirs(output_dir, exist_ok=True)  # Ensure folder exists\n",
    "\n",
    "output_path = os.path.join(output_dir, \"quotes_scraped.csv\")\n",
    "\n",
    "# Save dataframe to CSV\n",
    "df_quotes.to_csv(output_path, index=False)\n",
    "\n",
    "print(f\"Quotes saved to: {output_path}\")\n"
   ]
  },
  {
   "cell_type": "markdown",
   "id": "3ebf9a6d",
   "metadata": {},
   "source": [
    "---\n",
    "\n",
    "## Check if URL is Dynamic (JS-rendered)"
   ]
  },
  {
   "cell_type": "code",
   "execution_count": 6,
   "id": "0919e656",
   "metadata": {},
   "outputs": [
    {
     "name": "stdout",
     "output_type": "stream",
     "text": [
      "The page at https://quotes.toscrape.com/js appears to be dynamic (requires Selenium).!!!\n"
     ]
    }
   ],
   "source": [
    "# Optional: Check if URL is Dynamic (JS-rendered)\n",
    "custom_url = \"https://quotes.toscrape.com/js\"  # You can change this like: \n",
    "#custom_url = \"https://en.wikipedia.org/wiki/Natural_language_processing\"\n",
    "\n",
    "if is_dynamic(custom_url):\n",
    "    print(f\"The page at {custom_url} appears to be dynamic (requires Selenium).!!!\")\n",
    "else:\n",
    "    print(f\"The page at {custom_url} is static and safe to scrape with requests.\")\n"
   ]
  },
  {
   "cell_type": "code",
   "execution_count": 7,
   "id": "d605c3f0",
   "metadata": {},
   "outputs": [
    {
     "name": "stdout",
     "output_type": "stream",
     "text": [
      "Successfully extracted visible text.\n",
      "\n",
      " Preview (First 500 characters):\n",
      "\n",
      "# Quotes to Scrape\n",
      "\n",
      "Login\n",
      "\n",
      "- Next→\n",
      "Quotes by:GoodReads.com\n",
      "\n",
      "Made with❤byZyte\n",
      "\n",
      " Saved structured content to: e:\\CODveda\\codveda-internship\\data\\raw\\quotes_to_scrape_scraped.csv\n"
     ]
    }
   ],
   "source": [
    "# Extract structured text content from the URL\n",
    "try:\n",
    "    extracted_text = extract_structured_content(custom_url)\n",
    "\n",
    "    if extracted_text:\n",
    "        print(\"Successfully extracted visible text.\")\n",
    "        print(\"\\n Preview (First 500 characters):\\n\")\n",
    "        print(extracted_text[:500])\n",
    "\n",
    "        # Save as CSV in your output_dir\n",
    "        saved_path = save_scraped_text_to_csv(custom_url, extracted_text, save_dir=output_dir)\n",
    "        \n",
    "        print(f\"\\n Saved structured content to: {saved_path}\")\n",
    "    else:\n",
    "        print(\"No visible text found on the page.\")\n",
    "except Exception as e:\n",
    "    print(f\" Error extracting content: {e} !!!\")\n"
   ]
  },
  {
   "cell_type": "markdown",
   "id": "1b047972",
   "metadata": {},
   "source": [
    "## Summary\n",
    "\n",
    "- Scraped quotes from http://quotes.toscrape.com\n",
    "- Searched quotes using keywords\n",
    "- Saved structured data to CSV\n",
    "- Detected dynamic websites\n",
    "- Extracted and saved visible text from a custom URL\n"
   ]
  }
 ],
 "metadata": {
  "kernelspec": {
   "display_name": "codveda-env",
   "language": "python",
   "name": "python3"
  },
  "language_info": {
   "codemirror_mode": {
    "name": "ipython",
    "version": 3
   },
   "file_extension": ".py",
   "mimetype": "text/x-python",
   "name": "python",
   "nbconvert_exporter": "python",
   "pygments_lexer": "ipython3",
   "version": "3.11.0"
  }
 },
 "nbformat": 4,
 "nbformat_minor": 5
}
