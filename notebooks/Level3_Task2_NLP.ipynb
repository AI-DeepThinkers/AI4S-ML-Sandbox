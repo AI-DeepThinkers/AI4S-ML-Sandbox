{
 "cells": [
  {
   "cell_type": "markdown",
   "id": "033df5f7",
   "metadata": {},
   "source": [
    "# Sentiment Analysis with NLP\n",
    "\n",
    "This notebook performs sentiment analysis on social media texts using Natural Language Processing (NLP) techniques. \n",
    "\n",
    "We'll:\n",
    "- Load and clean a sentiment-labeled dataset\n",
    "- Preprocess the text (tokenization, lemmatization, etc.)\n",
    "- Train a classifier\n",
    "- Evaluate performance\n",
    "- Export predictions\n"
   ]
  },
  {
   "cell_type": "code",
   "execution_count": 1,
   "id": "e7fa74bd",
   "metadata": {},
   "outputs": [
    {
     "name": "stderr",
     "output_type": "stream",
     "text": [
      "[nltk_data] Downloading package stopwords to C:\\Users\\Kabelo\n",
      "[nltk_data]     Matlakala\\AppData\\Roaming\\nltk_data...\n",
      "[nltk_data]   Package stopwords is already up-to-date!\n",
      "[nltk_data] Downloading package punkt to C:\\Users\\Kabelo\n",
      "[nltk_data]     Matlakala\\AppData\\Roaming\\nltk_data...\n",
      "[nltk_data]   Package punkt is already up-to-date!\n",
      "[nltk_data] Downloading package wordnet to C:\\Users\\Kabelo\n",
      "[nltk_data]     Matlakala\\AppData\\Roaming\\nltk_data...\n",
      "[nltk_data]   Package wordnet is already up-to-date!\n"
     ]
    }
   ],
   "source": [
    "# sentiment_analysis_notebook.ipynb\n",
    "\n",
    "# Imports\n",
    "import sys\n",
    "import os\n",
    "\n",
    "# Add project root to path\n",
    "sys.path.append(os.path.abspath(\"..\"))  # Adjust depending on your directory depth\n",
    "\n",
    "import pandas as pd\n",
    "import matplotlib.pyplot as plt\n",
    "import seaborn as sns\n",
    "\n",
    "from sklearn.metrics import classification_report, confusion_matrix, accuracy_score, f1_score\n",
    "from Level3_Advanced.Task2_NLP.sentiment_classification import (\n",
    "    load_dataset,\n",
    "    simplify_labels,\n",
    "    preprocess,\n",
    "    clean_dataframe,\n",
    "    train_model,\n",
    "    save_model_and_vectorizer,\n",
    "    load_model_and_vectorizer\n",
    ")\n",
    "\n",
    "# Paths\n",
    "RAW_DATA_PATH = \"../data/raw/sentiment_dataset.csv\"\n",
    "CLEANED_DATA_PATH = \"../../data/cleaned/sentiment_dataset_cleaned.csv\"\n",
    "MODEL_PATH = \"../../models/sentiment_model.pkl\"\n",
    "VECTORIZER_PATH = \"../../models/tfidf_vectorizer.pkl\"\n"
   ]
  },
  {
   "cell_type": "markdown",
   "id": "f4ae53b5",
   "metadata": {},
   "source": [
    "## Load or Clean Dataset\n",
    "\n",
    "check if the cleaned dataset already exists. \n",
    "- If it does, we load it; \n",
    "- otherwise, we process the raw data, clean it, and save it for future use.\n",
    "\n",
    "We normalize sentiment labels (e.g., \"Positive\", \"positive\") and apply preprocessing to clean the text:\n",
    "- Lowercasing\n",
    "- Removing punctuation\n",
    "- Stopword removal\n",
    "- Lemmatization\n"
   ]
  },
  {
   "cell_type": "code",
   "execution_count": null,
   "id": "4b66f202",
   "metadata": {},
   "outputs": [
    {
     "name": "stdout",
     "output_type": "stream",
     "text": [
      "Cleaned and preprocessed dataset ready.\n"
     ]
    }
   ],
   "source": [
    "import os\n",
    "import pandas as pd\n",
    "\n",
    "if os.path.exists(CLEANED_DATA_PATH):\n",
    "    print(\"Loading existing cleaned dataset...\")\n",
    "    df_cleaned = pd.read_csv(CLEANED_DATA_PATH)\n",
    "else:\n",
    "    print(\"Cleaned dataset not found. Processing raw data...\")\n",
    "    df_raw = load_dataset(RAW_DATA_PATH)\n",
    "    df_cleaned = simplify_labels(df_raw)\n",
    "    df_cleaned['clean_text'] = df_cleaned['Text'].astype(str).apply(preprocess)\n",
    "\n",
    "    # Save cleaned dataset for reuse\n",
    "    os.makedirs(os.path.dirname(CLEANED_DATA_PATH), exist_ok=True)\n",
    "    df_cleaned.to_csv(CLEANED_DATA_PATH, index=False)\n",
    "    print(f\"Cleaned dataset saved to {CLEANED_DATA_PATH}\")\n",
    "\n",
    "print(\"Cleaned and preprocessed dataset ready.\")\n"
   ]
  },
  {
   "cell_type": "markdown",
   "id": "30f095b2",
   "metadata": {},
   "source": [
    "## Preview Cleaned Dataset\n",
    "We display the first few rows of the cleaned dataset to ensure that preprocessing was applied correctly."
   ]
  },
  {
   "cell_type": "code",
   "execution_count": 3,
   "id": "00b0e923",
   "metadata": {},
   "outputs": [
    {
     "data": {
      "text/html": [
       "<div>\n",
       "<style scoped>\n",
       "    .dataframe tbody tr th:only-of-type {\n",
       "        vertical-align: middle;\n",
       "    }\n",
       "\n",
       "    .dataframe tbody tr th {\n",
       "        vertical-align: top;\n",
       "    }\n",
       "\n",
       "    .dataframe thead th {\n",
       "        text-align: right;\n",
       "    }\n",
       "</style>\n",
       "<table border=\"1\" class=\"dataframe\">\n",
       "  <thead>\n",
       "    <tr style=\"text-align: right;\">\n",
       "      <th></th>\n",
       "      <th>Text</th>\n",
       "      <th>Sentiment</th>\n",
       "      <th>Timestamp</th>\n",
       "      <th>User</th>\n",
       "      <th>Platform</th>\n",
       "      <th>Hashtags</th>\n",
       "      <th>Retweets</th>\n",
       "      <th>Likes</th>\n",
       "      <th>Country</th>\n",
       "      <th>Year</th>\n",
       "      <th>Month</th>\n",
       "      <th>Day</th>\n",
       "      <th>Hour</th>\n",
       "      <th>Sentiment_Mapped</th>\n",
       "      <th>clean_text</th>\n",
       "    </tr>\n",
       "  </thead>\n",
       "  <tbody>\n",
       "    <tr>\n",
       "      <th>0</th>\n",
       "      <td>Enjoying a beautiful day at the park!        ...</td>\n",
       "      <td>Positive</td>\n",
       "      <td>2023-01-15 12:30:00</td>\n",
       "      <td>User123</td>\n",
       "      <td>Twitter</td>\n",
       "      <td>#Nature #Park</td>\n",
       "      <td>15.0</td>\n",
       "      <td>30.0</td>\n",
       "      <td>USA</td>\n",
       "      <td>2023</td>\n",
       "      <td>1</td>\n",
       "      <td>15</td>\n",
       "      <td>12</td>\n",
       "      <td>positive</td>\n",
       "      <td>enjoying beautiful day park</td>\n",
       "    </tr>\n",
       "    <tr>\n",
       "      <th>2</th>\n",
       "      <td>Just finished an amazing workout! 💪          ...</td>\n",
       "      <td>Positive</td>\n",
       "      <td>2023-01-15 15:45:00</td>\n",
       "      <td>FitnessFan</td>\n",
       "      <td>Instagram</td>\n",
       "      <td>#Fitness #Workout</td>\n",
       "      <td>20.0</td>\n",
       "      <td>40.0</td>\n",
       "      <td>USA</td>\n",
       "      <td>2023</td>\n",
       "      <td>1</td>\n",
       "      <td>15</td>\n",
       "      <td>15</td>\n",
       "      <td>positive</td>\n",
       "      <td>finished amazing workout 💪</td>\n",
       "    </tr>\n",
       "    <tr>\n",
       "      <th>3</th>\n",
       "      <td>Excited about the upcoming weekend getaway!  ...</td>\n",
       "      <td>Positive</td>\n",
       "      <td>2023-01-15 18:20:00</td>\n",
       "      <td>AdventureX</td>\n",
       "      <td>Facebook</td>\n",
       "      <td>#Travel #Adventure</td>\n",
       "      <td>8.0</td>\n",
       "      <td>15.0</td>\n",
       "      <td>UK</td>\n",
       "      <td>2023</td>\n",
       "      <td>1</td>\n",
       "      <td>15</td>\n",
       "      <td>18</td>\n",
       "      <td>positive</td>\n",
       "      <td>excited upcoming weekend getaway</td>\n",
       "    </tr>\n",
       "    <tr>\n",
       "      <th>4</th>\n",
       "      <td>Trying out a new recipe for dinner tonight.  ...</td>\n",
       "      <td>Neutral</td>\n",
       "      <td>2023-01-15 19:55:00</td>\n",
       "      <td>ChefCook</td>\n",
       "      <td>Instagram</td>\n",
       "      <td>#Cooking #Food</td>\n",
       "      <td>12.0</td>\n",
       "      <td>25.0</td>\n",
       "      <td>Australia</td>\n",
       "      <td>2023</td>\n",
       "      <td>1</td>\n",
       "      <td>15</td>\n",
       "      <td>19</td>\n",
       "      <td>neutral</td>\n",
       "      <td>trying new recipe dinner tonight</td>\n",
       "    </tr>\n",
       "    <tr>\n",
       "      <th>5</th>\n",
       "      <td>Feeling grateful for the little things in lif...</td>\n",
       "      <td>Positive</td>\n",
       "      <td>2023-01-16 09:10:00</td>\n",
       "      <td>GratitudeNow</td>\n",
       "      <td>Twitter</td>\n",
       "      <td>#Gratitude #PositiveVibes</td>\n",
       "      <td>25.0</td>\n",
       "      <td>50.0</td>\n",
       "      <td>India</td>\n",
       "      <td>2023</td>\n",
       "      <td>1</td>\n",
       "      <td>16</td>\n",
       "      <td>9</td>\n",
       "      <td>positive</td>\n",
       "      <td>feeling grateful little thing life</td>\n",
       "    </tr>\n",
       "  </tbody>\n",
       "</table>\n",
       "</div>"
      ],
      "text/plain": [
       "                                                Text    Sentiment  \\\n",
       "0   Enjoying a beautiful day at the park!        ...   Positive     \n",
       "2   Just finished an amazing workout! 💪          ...   Positive     \n",
       "3   Excited about the upcoming weekend getaway!  ...   Positive     \n",
       "4   Trying out a new recipe for dinner tonight.  ...   Neutral      \n",
       "5   Feeling grateful for the little things in lif...   Positive     \n",
       "\n",
       "             Timestamp            User     Platform  \\\n",
       "0  2023-01-15 12:30:00   User123          Twitter     \n",
       "2  2023-01-15 15:45:00   FitnessFan      Instagram    \n",
       "3  2023-01-15 18:20:00   AdventureX       Facebook    \n",
       "4  2023-01-15 19:55:00   ChefCook        Instagram    \n",
       "5  2023-01-16 09:10:00   GratitudeNow     Twitter     \n",
       "\n",
       "                                     Hashtags  Retweets  Likes       Country  \\\n",
       "0   #Nature #Park                                  15.0   30.0     USA         \n",
       "2   #Fitness #Workout                              20.0   40.0   USA           \n",
       "3   #Travel #Adventure                              8.0   15.0     UK          \n",
       "4   #Cooking #Food                                 12.0   25.0    Australia    \n",
       "5     #Gratitude #PositiveVibes                    25.0   50.0     India       \n",
       "\n",
       "   Year  Month  Day  Hour Sentiment_Mapped                          clean_text  \n",
       "0  2023      1   15    12         positive         enjoying beautiful day park  \n",
       "2  2023      1   15    15         positive          finished amazing workout 💪  \n",
       "3  2023      1   15    18         positive    excited upcoming weekend getaway  \n",
       "4  2023      1   15    19          neutral    trying new recipe dinner tonight  \n",
       "5  2023      1   16     9         positive  feeling grateful little thing life  "
      ]
     },
     "execution_count": 3,
     "metadata": {},
     "output_type": "execute_result"
    }
   ],
   "source": [
    "# Preview cleaned data\n",
    "df_cleaned.head()"
   ]
  },
  {
   "cell_type": "markdown",
   "id": "ccb1c180",
   "metadata": {},
   "source": [
    "#  Model Training and Evaluation\n",
    "\n",
    "Now that the data is preprocessed, we:\n",
    "\n",
    "- Use a sample of 300 rows to train the model\n",
    "- Generate a classification report\n",
    "- Evaluate model performance (accuracy, F1-score)\n",
    "- Plot the confusion matrix\n"
   ]
  },
  {
   "cell_type": "code",
   "execution_count": 4,
   "id": "f41a1af1",
   "metadata": {},
   "outputs": [
    {
     "name": "stdout",
     "output_type": "stream",
     "text": [
      "Training on FULL dataset...\n",
      "Model and vectorizer saved at ../../models\n"
     ]
    },
    {
     "name": "stderr",
     "output_type": "stream",
     "text": [
      "e:\\CODveda\\codveda-internship\\codveda-env\\Lib\\site-packages\\sklearn\\linear_model\\_logistic.py:1264: FutureWarning: 'multi_class' was deprecated in version 1.5 and will be removed in 1.7. From then on, it will always use 'multinomial'. Leave it to its default value to avoid this warning.\n",
      "  warnings.warn(\n"
     ]
    }
   ],
   "source": [
    "# Training options\n",
    "use_full_data = True  # Set True to train on full dataset, False to use smaller sample\n",
    "\n",
    "if use_full_data:\n",
    "    print(\"Training on FULL dataset...\")\n",
    "    df_train = df_cleaned\n",
    "else:\n",
    "    sample_size = 300\n",
    "    df_train = df_cleaned.sample(n=sample_size, random_state=42).reset_index(drop=True)\n",
    "    print(f\"Training on SAMPLE dataset of size {sample_size}...\")\n",
    "\n",
    "# Train model\n",
    "model, vectorizer, X_test, y_test, y_pred = train_model(df_train)\n",
    "\n",
    "# Save the model and vectorizer\n",
    "save_model_and_vectorizer(model, vectorizer, os.path.dirname(MODEL_PATH))\n",
    "print(f\"Model and vectorizer saved at {os.path.dirname(MODEL_PATH)}\")\n"
   ]
  },
  {
   "cell_type": "markdown",
   "id": "f63c1a66",
   "metadata": {},
   "source": [
    "## Model Evaluation Metrics\n",
    "classification report, accuracy, and F1 score to assess performance."
   ]
  },
  {
   "cell_type": "code",
   "execution_count": 5,
   "id": "5578b246",
   "metadata": {},
   "outputs": [
    {
     "name": "stdout",
     "output_type": "stream",
     "text": [
      "Classification Report:\n",
      "              precision    recall  f1-score   support\n",
      "\n",
      "    negative       1.00      0.88      0.93        16\n",
      "     neutral       0.80      0.31      0.44        13\n",
      "    positive       0.81      0.98      0.89        49\n",
      "\n",
      "    accuracy                           0.85        78\n",
      "   macro avg       0.87      0.72      0.76        78\n",
      "weighted avg       0.85      0.85      0.82        78\n",
      "\n",
      "Accuracy: 0.85\n",
      "F1 Score: 0.82\n"
     ]
    }
   ],
   "source": [
    "# Classification Report\n",
    "print(\"Classification Report:\")\n",
    "print(classification_report(y_test, y_pred))\n",
    "\n",
    "# Accuracy & F1\n",
    "accuracy = accuracy_score(y_test, y_pred)\n",
    "f1 = f1_score(y_test, y_pred, average='weighted')\n",
    "print(f\"Accuracy: {accuracy:.2f}\")\n",
    "print(f\"F1 Score: {f1:.2f}\")\n"
   ]
  },
  {
   "cell_type": "markdown",
   "id": "d3a007e1",
   "metadata": {},
   "source": [
    "##  Confusion Matrix\n",
    "\n",
    "heatmap shows how well the model predicted sentiment classes.\n"
   ]
  },
  {
   "cell_type": "code",
   "execution_count": 6,
   "id": "c94118b1",
   "metadata": {},
   "outputs": [
    {
     "data": {
      "image/png": "[encoded data removed]",
      "text/plain": [
       "<Figure size 600x500 with 2 Axes>"
      ]
     },
     "metadata": {},
     "output_type": "display_data"
    }
   ],
   "source": [
    "labels = ['negative', 'neutral', 'positive']\n",
    "cm = confusion_matrix(y_test, y_pred, labels=labels)\n",
    "\n",
    "plt.figure(figsize=(6, 5))\n",
    "sns.heatmap(cm, annot=True, fmt='d', cmap='Blues', xticklabels=labels, yticklabels=labels)\n",
    "plt.xlabel(\"Predicted\")\n",
    "plt.ylabel(\"Actual\")\n",
    "plt.title(\"Confusion Matrix\")\n",
    "plt.tight_layout()\n",
    "plt.show()"
   ]
  },
  {
   "cell_type": "markdown",
   "id": "f3c26051",
   "metadata": {},
   "source": [
    "## ✏️ Try It: Custom Sentiment Predictions\n",
    "\n",
    "Let's try a few custom texts to see how well the model performs.\n"
   ]
  },
  {
   "cell_type": "code",
   "execution_count": 7,
   "id": "1bccabaa",
   "metadata": {},
   "outputs": [
    {
     "data": {
      "text/html": [
       "<div>\n",
       "<style scoped>\n",
       "    .dataframe tbody tr th:only-of-type {\n",
       "        vertical-align: middle;\n",
       "    }\n",
       "\n",
       "    .dataframe tbody tr th {\n",
       "        vertical-align: top;\n",
       "    }\n",
       "\n",
       "    .dataframe thead th {\n",
       "        text-align: right;\n",
       "    }\n",
       "</style>\n",
       "<table border=\"1\" class=\"dataframe\">\n",
       "  <thead>\n",
       "    <tr style=\"text-align: right;\">\n",
       "      <th></th>\n",
       "      <th>Text</th>\n",
       "      <th>Predicted Sentiment</th>\n",
       "    </tr>\n",
       "  </thead>\n",
       "  <tbody>\n",
       "    <tr>\n",
       "      <th>0</th>\n",
       "      <td>Can't believe the injustice happening in our s...</td>\n",
       "      <td>negative</td>\n",
       "    </tr>\n",
       "    <tr>\n",
       "      <th>1</th>\n",
       "      <td>Feeling a bit under the weather today.</td>\n",
       "      <td>positive</td>\n",
       "    </tr>\n",
       "    <tr>\n",
       "      <th>2</th>\n",
       "      <td>I'm not sure what to feel about this</td>\n",
       "      <td>positive</td>\n",
       "    </tr>\n",
       "    <tr>\n",
       "      <th>3</th>\n",
       "      <td>Such a bitter outcome, I can't believe it.</td>\n",
       "      <td>negative</td>\n",
       "    </tr>\n",
       "  </tbody>\n",
       "</table>\n",
       "</div>"
      ],
      "text/plain": [
       "                                                Text Predicted Sentiment\n",
       "0  Can't believe the injustice happening in our s...            negative\n",
       "1             Feeling a bit under the weather today.            positive\n",
       "2               I'm not sure what to feel about this            positive\n",
       "3         Such a bitter outcome, I can't believe it.            negative"
      ]
     },
     "execution_count": 7,
     "metadata": {},
     "output_type": "execute_result"
    }
   ],
   "source": [
    "# Predict on custom inputs\n",
    "texts = [\n",
    "    \"Can't believe the injustice happening in our society.\",\n",
    "    \"Feeling a bit under the weather today.\",\n",
    "    \"I'm not sure what to feel about this\",\n",
    "    \"Such a bitter outcome, I can't believe it.\"\n",
    "]\n",
    "\n",
    "# Preprocess and predict\n",
    "processed = [preprocess(t) for t in texts]\n",
    "X_new = vectorizer.transform(processed)\n",
    "predictions = model.predict(X_new)\n",
    "\n",
    "# Result DataFrame\n",
    "results_df = pd.DataFrame({\"Text\": texts, \"Predicted Sentiment\": predictions})\n",
    "results_df\n"
   ]
  },
  {
   "cell_type": "code",
   "execution_count": 8,
   "id": "8bc74a09",
   "metadata": {},
   "outputs": [],
   "source": [
    "# Save to CSV\n",
    "# results_df.to_csv(\"predictions_output.csv\", index=False)\n",
    "# print(\" Predictions exported to predictions_output.csv\")\n"
   ]
  },
  {
   "cell_type": "markdown",
   "id": "ea027721",
   "metadata": {},
   "source": [
    "# Summary\n",
    "\n",
    "- **Dataset loaded and cleaned:** We loaded the raw sentiment dataset, normalized sentiment labels, and preprocessed the text data.\n",
    "- **Model trained:** A logistic regression model was trained on a sample of the cleaned data using TF-IDF vectorization.\n",
    "- **Performance evaluated:** We evaluated the model using classification report, accuracy, and weighted F1-score, and visualized the confusion matrix.\n",
    "- **Predictions made:** The model was tested on custom example sentences to predict sentiment.\n",
    "- **Download enabled:** Users can download prediction results as a CSV file directly from the notebook.\n",
    "- **Next steps:** Consider training on a larger dataset, tuning hyperparameters, or experimenting with other models for improved performance.\n",
    "\n",
    "---\n",
    "\n"
   ]
  },
  {
   "cell_type": "markdown",
   "id": "d684f123",
   "metadata": {},
   "source": []
  }
 ],
 "metadata": {
  "kernelspec": {
   "display_name": "codveda-env",
   "language": "python",
   "name": "python3"
  },
  "language_info": {
   "codemirror_mode": {
    "name": "ipython",
    "version": 3
   },
   "file_extension": ".py",
   "mimetype": "text/x-python",
   "name": "python",
   "nbconvert_exporter": "python",
   "pygments_lexer": "ipython3",
   "version": "3.11.0"
  }
 },
 "nbformat": 4,
 "nbformat_minor": 5
}
